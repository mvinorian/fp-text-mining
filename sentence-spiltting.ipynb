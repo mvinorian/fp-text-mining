{
 "cells": [
  {
   "cell_type": "markdown",
   "metadata": {},
   "source": [
    "## Import Libraries"
   ]
  },
  {
   "cell_type": "code",
   "execution_count": 2,
   "metadata": {},
   "outputs": [],
   "source": [
    "import pandas as pd"
   ]
  },
  {
   "cell_type": "markdown",
   "metadata": {},
   "source": [
    "## Import Datasets"
   ]
  },
  {
   "cell_type": "code",
   "execution_count": 4,
   "metadata": {},
   "outputs": [
    {
     "data": {
      "text/html": [
       "<div>\n",
       "<style scoped>\n",
       "    .dataframe tbody tr th:only-of-type {\n",
       "        vertical-align: middle;\n",
       "    }\n",
       "\n",
       "    .dataframe tbody tr th {\n",
       "        vertical-align: top;\n",
       "    }\n",
       "\n",
       "    .dataframe thead th {\n",
       "        text-align: right;\n",
       "    }\n",
       "</style>\n",
       "<table border=\"1\" class=\"dataframe\">\n",
       "  <thead>\n",
       "    <tr style=\"text-align: right;\">\n",
       "      <th></th>\n",
       "      <th>judul</th>\n",
       "      <th>asal</th>\n",
       "      <th>text</th>\n",
       "      <th>ner_results</th>\n",
       "      <th>persons</th>\n",
       "    </tr>\n",
       "  </thead>\n",
       "  <tbody>\n",
       "    <tr>\n",
       "      <th>0</th>\n",
       "      <td>Legenda Danau Toba</td>\n",
       "      <td>Sumatera Utara</td>\n",
       "      <td>Di sebuah desa di wilayah Sumatera, hidup seor...</td>\n",
       "      <td>[{'entity_group': 'GPE', 'score': 0.9980665, '...</td>\n",
       "      <td>['Pu', 'Kanda', 'teri', 'Petani', 'ni', 'Puter...</td>\n",
       "    </tr>\n",
       "    <tr>\n",
       "      <th>1</th>\n",
       "      <td>Puteri Hijau</td>\n",
       "      <td>Sumatera Utara</td>\n",
       "      <td>Sekitar abad 14 dan 15 masehi , berdiri keraja...</td>\n",
       "      <td>[{'entity_group': 'DAT', 'score': 0.68840194, ...</td>\n",
       "      <td>['ri Hij', 'Mambang Jazid', 'jazid', 'putri hi...</td>\n",
       "    </tr>\n",
       "    <tr>\n",
       "      <th>2</th>\n",
       "      <td>Batu Gantung Danau Toba</td>\n",
       "      <td>Sumatera Utara</td>\n",
       "      <td>Pada zaman dahulu kala, terdapat satu keluarga...</td>\n",
       "      <td>[{'entity_group': 'CRD', 'score': 0.9936027, '...</td>\n",
       "      <td>['Toki', 'Sang', 'uni', 'Ayah', 'Ser', 'seruni...</td>\n",
       "    </tr>\n",
       "    <tr>\n",
       "      <th>3</th>\n",
       "      <td>Sampuraga Si Anak Durhaka</td>\n",
       "      <td>Sumatera Utara</td>\n",
       "      <td>Pada zaman dulu, hiduplah seorang janda tua da...</td>\n",
       "      <td>[{'entity_group': 'PER', 'score': 0.9767194, '...</td>\n",
       "      <td>['Sampura', 'Ibu', 'Sang', 'sampura', 'sampura...</td>\n",
       "    </tr>\n",
       "    <tr>\n",
       "      <th>4</th>\n",
       "      <td>Si Buyung Besar</td>\n",
       "      <td>Sumatera Utara</td>\n",
       "      <td>Pada zaman dahulu kala penduduk pantai pun mas...</td>\n",
       "      <td>[{'entity_group': 'CRD', 'score': 0.74330723, ...</td>\n",
       "      <td>['Buyung', 'Sang', 'si Buyung Besar', 'Datuk',...</td>\n",
       "    </tr>\n",
       "  </tbody>\n",
       "</table>\n",
       "</div>"
      ],
      "text/plain": [
       "                       judul            asal  \\\n",
       "0         Legenda Danau Toba  Sumatera Utara   \n",
       "1               Puteri Hijau  Sumatera Utara   \n",
       "2    Batu Gantung Danau Toba  Sumatera Utara   \n",
       "3  Sampuraga Si Anak Durhaka  Sumatera Utara   \n",
       "4            Si Buyung Besar  Sumatera Utara   \n",
       "\n",
       "                                                text  \\\n",
       "0  Di sebuah desa di wilayah Sumatera, hidup seor...   \n",
       "1  Sekitar abad 14 dan 15 masehi , berdiri keraja...   \n",
       "2  Pada zaman dahulu kala, terdapat satu keluarga...   \n",
       "3  Pada zaman dulu, hiduplah seorang janda tua da...   \n",
       "4  Pada zaman dahulu kala penduduk pantai pun mas...   \n",
       "\n",
       "                                         ner_results  \\\n",
       "0  [{'entity_group': 'GPE', 'score': 0.9980665, '...   \n",
       "1  [{'entity_group': 'DAT', 'score': 0.68840194, ...   \n",
       "2  [{'entity_group': 'CRD', 'score': 0.9936027, '...   \n",
       "3  [{'entity_group': 'PER', 'score': 0.9767194, '...   \n",
       "4  [{'entity_group': 'CRD', 'score': 0.74330723, ...   \n",
       "\n",
       "                                             persons  \n",
       "0  ['Pu', 'Kanda', 'teri', 'Petani', 'ni', 'Puter...  \n",
       "1  ['ri Hij', 'Mambang Jazid', 'jazid', 'putri hi...  \n",
       "2  ['Toki', 'Sang', 'uni', 'Ayah', 'Ser', 'seruni...  \n",
       "3  ['Sampura', 'Ibu', 'Sang', 'sampura', 'sampura...  \n",
       "4  ['Buyung', 'Sang', 'si Buyung Besar', 'Datuk',...  "
      ]
     },
     "execution_count": 4,
     "metadata": {},
     "output_type": "execute_result"
    }
   ],
   "source": [
    "df = pd.read_csv('ner_results.csv')\n",
    "df.head()"
   ]
  },
  {
   "cell_type": "code",
   "execution_count": 5,
   "metadata": {},
   "outputs": [
    {
     "data": {
      "text/html": [
       "<div>\n",
       "<style scoped>\n",
       "    .dataframe tbody tr th:only-of-type {\n",
       "        vertical-align: middle;\n",
       "    }\n",
       "\n",
       "    .dataframe tbody tr th {\n",
       "        vertical-align: top;\n",
       "    }\n",
       "\n",
       "    .dataframe thead th {\n",
       "        text-align: right;\n",
       "    }\n",
       "</style>\n",
       "<table border=\"1\" class=\"dataframe\">\n",
       "  <thead>\n",
       "    <tr style=\"text-align: right;\">\n",
       "      <th></th>\n",
       "      <th>judul</th>\n",
       "      <th>asal</th>\n",
       "      <th>text</th>\n",
       "      <th>persons</th>\n",
       "    </tr>\n",
       "  </thead>\n",
       "  <tbody>\n",
       "    <tr>\n",
       "      <th>0</th>\n",
       "      <td>Legenda Danau Toba</td>\n",
       "      <td>Sumatera Utara</td>\n",
       "      <td>Di sebuah desa di wilayah Sumatera, hidup seor...</td>\n",
       "      <td>['Pu', 'Kanda', 'teri', 'Petani', 'ni', 'Puter...</td>\n",
       "    </tr>\n",
       "    <tr>\n",
       "      <th>1</th>\n",
       "      <td>Puteri Hijau</td>\n",
       "      <td>Sumatera Utara</td>\n",
       "      <td>Sekitar abad 14 dan 15 masehi , berdiri keraja...</td>\n",
       "      <td>['ri Hij', 'Mambang Jazid', 'jazid', 'putri hi...</td>\n",
       "    </tr>\n",
       "    <tr>\n",
       "      <th>2</th>\n",
       "      <td>Batu Gantung Danau Toba</td>\n",
       "      <td>Sumatera Utara</td>\n",
       "      <td>Pada zaman dahulu kala, terdapat satu keluarga...</td>\n",
       "      <td>['Toki', 'Sang', 'uni', 'Ayah', 'Ser', 'seruni...</td>\n",
       "    </tr>\n",
       "    <tr>\n",
       "      <th>3</th>\n",
       "      <td>Sampuraga Si Anak Durhaka</td>\n",
       "      <td>Sumatera Utara</td>\n",
       "      <td>Pada zaman dulu, hiduplah seorang janda tua da...</td>\n",
       "      <td>['Sampura', 'Ibu', 'Sang', 'sampura', 'sampura...</td>\n",
       "    </tr>\n",
       "    <tr>\n",
       "      <th>4</th>\n",
       "      <td>Si Buyung Besar</td>\n",
       "      <td>Sumatera Utara</td>\n",
       "      <td>Pada zaman dahulu kala penduduk pantai pun mas...</td>\n",
       "      <td>['Buyung', 'Sang', 'si Buyung Besar', 'Datuk',...</td>\n",
       "    </tr>\n",
       "  </tbody>\n",
       "</table>\n",
       "</div>"
      ],
      "text/plain": [
       "                       judul            asal  \\\n",
       "0         Legenda Danau Toba  Sumatera Utara   \n",
       "1               Puteri Hijau  Sumatera Utara   \n",
       "2    Batu Gantung Danau Toba  Sumatera Utara   \n",
       "3  Sampuraga Si Anak Durhaka  Sumatera Utara   \n",
       "4            Si Buyung Besar  Sumatera Utara   \n",
       "\n",
       "                                                text  \\\n",
       "0  Di sebuah desa di wilayah Sumatera, hidup seor...   \n",
       "1  Sekitar abad 14 dan 15 masehi , berdiri keraja...   \n",
       "2  Pada zaman dahulu kala, terdapat satu keluarga...   \n",
       "3  Pada zaman dulu, hiduplah seorang janda tua da...   \n",
       "4  Pada zaman dahulu kala penduduk pantai pun mas...   \n",
       "\n",
       "                                             persons  \n",
       "0  ['Pu', 'Kanda', 'teri', 'Petani', 'ni', 'Puter...  \n",
       "1  ['ri Hij', 'Mambang Jazid', 'jazid', 'putri hi...  \n",
       "2  ['Toki', 'Sang', 'uni', 'Ayah', 'Ser', 'seruni...  \n",
       "3  ['Sampura', 'Ibu', 'Sang', 'sampura', 'sampura...  \n",
       "4  ['Buyung', 'Sang', 'si Buyung Besar', 'Datuk',...  "
      ]
     },
     "execution_count": 5,
     "metadata": {},
     "output_type": "execute_result"
    }
   ],
   "source": [
    "df = df[['judul', 'asal', 'text', 'persons']]\n",
    "df.head()"
   ]
  },
  {
   "cell_type": "markdown",
   "metadata": {},
   "source": [
    "## Splitting Datasets"
   ]
  },
  {
   "cell_type": "code",
   "execution_count": 20,
   "metadata": {},
   "outputs": [],
   "source": [
    "data = []\n",
    "\n",
    "for idx, row in df.iterrows():\n",
    "  persons = eval(row['persons'])\n",
    "  persons = [person for person in persons if len(person) >= 2]\n",
    "  persons.sort(key=len, reverse=True)\n",
    "\n",
    "  for sentence in row['text'].split('.'):\n",
    "    for person in persons:\n",
    "      if person in sentence:\n",
    "        data.append([row['judul'], row['asal'], person, sentence.strip()])\n",
    "        break"
   ]
  },
  {
   "cell_type": "code",
   "execution_count": 21,
   "metadata": {},
   "outputs": [
    {
     "data": {
      "text/html": [
       "<div>\n",
       "<style scoped>\n",
       "    .dataframe tbody tr th:only-of-type {\n",
       "        vertical-align: middle;\n",
       "    }\n",
       "\n",
       "    .dataframe tbody tr th {\n",
       "        vertical-align: top;\n",
       "    }\n",
       "\n",
       "    .dataframe thead th {\n",
       "        text-align: right;\n",
       "    }\n",
       "</style>\n",
       "<table border=\"1\" class=\"dataframe\">\n",
       "  <thead>\n",
       "    <tr style=\"text-align: right;\">\n",
       "      <th></th>\n",
       "      <th>judul</th>\n",
       "      <th>asal</th>\n",
       "      <th>person</th>\n",
       "      <th>sentence</th>\n",
       "    </tr>\n",
       "  </thead>\n",
       "  <tbody>\n",
       "    <tr>\n",
       "      <th>0</th>\n",
       "      <td>Legenda Danau Toba</td>\n",
       "      <td>Sumatera Utara</td>\n",
       "      <td>ni</td>\n",
       "      <td>Di sebuah desa di wilayah Sumatera, hidup seor...</td>\n",
       "    </tr>\n",
       "    <tr>\n",
       "      <th>1</th>\n",
       "      <td>Legenda Danau Toba</td>\n",
       "      <td>Sumatera Utara</td>\n",
       "      <td>ni</td>\n",
       "      <td>Ia seorang petani yang rajin bekerja walaupun ...</td>\n",
       "    </tr>\n",
       "    <tr>\n",
       "      <th>2</th>\n",
       "      <td>Legenda Danau Toba</td>\n",
       "      <td>Sumatera Utara</td>\n",
       "      <td>ni</td>\n",
       "      <td>Sebenarnya usianya sudah cukup untuk menikah, ...</td>\n",
       "    </tr>\n",
       "    <tr>\n",
       "      <th>3</th>\n",
       "      <td>Legenda Danau Toba</td>\n",
       "      <td>Sumatera Utara</td>\n",
       "      <td>ni</td>\n",
       "      <td>Di suatu pagi hari yang cerah, petani itu mema...</td>\n",
       "    </tr>\n",
       "    <tr>\n",
       "      <th>4</th>\n",
       "      <td>Legenda Danau Toba</td>\n",
       "      <td>Sumatera Utara</td>\n",
       "      <td>ni</td>\n",
       "      <td>“Mudah-mudahan hari ini aku mendapat ikan yang...</td>\n",
       "    </tr>\n",
       "  </tbody>\n",
       "</table>\n",
       "</div>"
      ],
      "text/plain": [
       "                judul            asal person  \\\n",
       "0  Legenda Danau Toba  Sumatera Utara     ni   \n",
       "1  Legenda Danau Toba  Sumatera Utara     ni   \n",
       "2  Legenda Danau Toba  Sumatera Utara     ni   \n",
       "3  Legenda Danau Toba  Sumatera Utara     ni   \n",
       "4  Legenda Danau Toba  Sumatera Utara     ni   \n",
       "\n",
       "                                            sentence  \n",
       "0  Di sebuah desa di wilayah Sumatera, hidup seor...  \n",
       "1  Ia seorang petani yang rajin bekerja walaupun ...  \n",
       "2  Sebenarnya usianya sudah cukup untuk menikah, ...  \n",
       "3  Di suatu pagi hari yang cerah, petani itu mema...  \n",
       "4  “Mudah-mudahan hari ini aku mendapat ikan yang...  "
      ]
     },
     "execution_count": 21,
     "metadata": {},
     "output_type": "execute_result"
    }
   ],
   "source": [
    "df_out = pd.DataFrame(data, columns=['judul', 'asal', 'person', 'sentence'])\n",
    "df_out.head()"
   ]
  },
  {
   "cell_type": "code",
   "execution_count": 22,
   "metadata": {},
   "outputs": [
    {
     "data": {
      "text/plain": [
       "(9968, 4)"
      ]
     },
     "execution_count": 22,
     "metadata": {},
     "output_type": "execute_result"
    }
   ],
   "source": [
    "df_out.shape"
   ]
  },
  {
   "cell_type": "code",
   "execution_count": 23,
   "metadata": {},
   "outputs": [],
   "source": [
    "df_out.to_csv('persons.csv', index=False)"
   ]
  }
 ],
 "metadata": {
  "kernelspec": {
   "display_name": "Python 3",
   "language": "python",
   "name": "python3"
  },
  "language_info": {
   "codemirror_mode": {
    "name": "ipython",
    "version": 3
   },
   "file_extension": ".py",
   "mimetype": "text/x-python",
   "name": "python",
   "nbconvert_exporter": "python",
   "pygments_lexer": "ipython3",
   "version": "3.11.5"
  }
 },
 "nbformat": 4,
 "nbformat_minor": 2
}
